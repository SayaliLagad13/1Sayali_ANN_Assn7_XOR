{
 "cells": [
  {
   "cell_type": "markdown",
   "id": "06d61fab",
   "metadata": {},
   "source": [
    "\n",
    "# XOR Assignment 7"
   ]
  },
  {
   "cell_type": "code",
   "execution_count": null,
   "id": "a5b7f799",
   "metadata": {},
   "outputs": [],
   "source": []
  },
  {
   "cell_type": "code",
   "execution_count": 1,
   "id": "7cdd3b08",
   "metadata": {},
   "outputs": [],
   "source": [
    "import numpy as np\n",
    "\n",
    "class ANN:\n",
    "    def __init__(self, input_size, hidden_layers, hidden_neurons, output_size, learning_rate):\n",
    "        self.weights=[]\n",
    "        self.bias=[]\n",
    "        self.hidden_layers=hidden_layers\n",
    "        self.learning_rate=learning_rate;\n",
    "        \n",
    "        for i in range(hidden_layers + 1):\n",
    "            if i==0:\n",
    "                self.weights.append(np.random.randn(hidden_neurons,input_size))\n",
    "                self.bias.append(np.full((hidden_neurons,1),1))\n",
    "            elif i == hidden_layers:\n",
    "                self.weights.append(np.random.randn(output_size,hidden_neurons))\n",
    "                self.bias.append(np.full((output_size,1),1))\n",
    "            else:\n",
    "                self.weights.append(np.random.randn(hidden_neurons,hidden_neurons))\n",
    "                self.bias.append(np.full((hidden_neurons,1),1))\n",
    "                \n",
    "    def sigmoid(self, x):\n",
    "        return 1/(1+np.exp(-x))\n",
    "\n",
    "    def first_order_sigmoid(self,x):\n",
    "        return self.sigmoid(x)*(1-self.sigmoid(x))\n",
    "\n",
    "    def forward(self,x):\n",
    "        activations=[]\n",
    "        activations.append(x)\n",
    "        for i in range(self.hidden_layers+1):\n",
    "            x=np.dot(self.weights[i],activations[i])+self.bias[i]\n",
    "            activations.append(self.sigmoid(x))\n",
    "        return activations\n",
    "    \n",
    "    def backward(self,activations,di,m):\n",
    "        delta=(activations[-1]-di.T)* self.first_order_sigmoid(np.dot(self.weights[-1],activations[-2])+self.bias[-1])\n",
    "        for i in range(self.hidden_layers, -1, -1):\n",
    "            if i == self.hidden_layers:\n",
    "                prev = np.array(self.weights[i])\n",
    "                self.weights[i] = self.weights[i]-(self.learning_rate/m) * np.dot(delta,activations[i].T)\n",
    "                self.bias[i]=self.bias[i]-(self.learning_rate/m) * np.sum(delta,axis=1,keepdims=True)\n",
    "                \n",
    "            else:\n",
    "                delta=np.dot(prev.T, delta) * self.first_order_sigmoid(np.dot(self.weights[i], activations[i])+self.bias[i])\n",
    "                prev=np.array(self.weights[i])\n",
    "                self.weights[i]=self.weights[i]-(self.learning_rate/m) * np.dot(delta,activations[i].T)\n",
    "                self.bias[i]=self.bias[i]-(self.learning_rate/m) * np.sum(delta,axis=1,keepdims=True)\n",
    "                \n",
    "    def train(self,x,y,epochs):\n",
    "        for i in range(epochs):\n",
    "            activations=self.forward(x)\n",
    "            m=x.shape[1]\n",
    "            self.backward(activations,y,m)\n",
    "            if(i%100 == 0):\n",
    "                print(\"Error at %d epoch : \"%(i),np.sum(activations[-1]-y.T))\n"
   ]
  },
  {
   "cell_type": "code",
   "execution_count": 2,
   "id": "2bc8fc74",
   "metadata": {},
   "outputs": [],
   "source": [
    "input_size=2\n",
    "hidden_layers=3\n",
    "neurons_in_hidden_layer=5\n",
    "output_size=2\n",
    "learning_rate=0.1\n",
    "\n",
    "model=ANN(input_size,hidden_layers,neurons_in_hidden_layer,output_size,learning_rate)"
   ]
  },
  {
   "cell_type": "code",
   "execution_count": 3,
   "id": "ebdeec05",
   "metadata": {},
   "outputs": [
    {
     "data": {
      "text/plain": [
       "array([[0, 0, 1, 1],\n",
       "       [0, 1, 0, 1]])"
      ]
     },
     "execution_count": 3,
     "metadata": {},
     "output_type": "execute_result"
    }
   ],
   "source": [
    "x=np.array([[0,0], [0,1], [1,0], [1,1]])\n",
    "x=x.T\n",
    "y= np.array([[1,0], [0,1], [0,1], [1,0]])\n",
    "x"
   ]
  },
  {
   "cell_type": "code",
   "execution_count": 4,
   "id": "94b6f9d8",
   "metadata": {},
   "outputs": [
    {
     "name": "stdout",
     "output_type": "stream",
     "text": [
      "Error at 0 epoch :  2.5284359010253294\n",
      "Error at 100 epoch :  1.526496187389514\n",
      "Error at 200 epoch :  0.31660189700534147\n",
      "Error at 300 epoch :  0.023512365037776428\n",
      "Error at 400 epoch :  0.00185335214221527\n",
      "Error at 500 epoch :  0.0003304804128744787\n",
      "Error at 600 epoch :  0.00024082158654514796\n",
      "Error at 700 epoch :  0.00025426145617940543\n",
      "Error at 800 epoch :  0.0002754133245474466\n",
      "Error at 900 epoch :  0.0002973824651287815\n",
      "Error at 1000 epoch :  0.00031969529786052275\n",
      "Error at 1100 epoch :  0.0003423520005802483\n",
      "Error at 1200 epoch :  0.0003653891531543163\n",
      "Error at 1300 epoch :  0.00038884710846720516\n",
      "Error at 1400 epoch :  0.0004127676188040441\n",
      "Error at 1500 epoch :  0.0004371937716004526\n",
      "Error at 1600 epoch :  0.00046217010697174876\n",
      "Error at 1700 epoch :  0.0004877427513417798\n",
      "Error at 1800 epoch :  0.0005139595537876906\n",
      "Error at 1900 epoch :  0.000540870223702361\n",
      "Error at 2000 epoch :  0.0005685264690953873\n",
      "Error at 2100 epoch :  0.0005969821347747706\n",
      "Error at 2200 epoch :  0.0006262933392846559\n",
      "Error at 2300 epoch :  0.0006565186091868069\n",
      "Error at 2400 epoch :  0.0006877190088033225\n",
      "Error at 2500 epoch :  0.0007199582630109669\n",
      "Error at 2600 epoch :  0.0007533028700930089\n",
      "Error at 2700 epoch :  0.0007878222008415592\n",
      "Error at 2800 epoch :  0.0008235885792304831\n",
      "Error at 2900 epoch :  0.0008606773388658007\n",
      "Error at 3000 epoch :  0.0008991668480952675\n",
      "Error at 3100 epoch :  0.0009391384950977466\n",
      "Error at 3200 epoch :  0.0009806766223665053\n",
      "Error at 3300 epoch :  0.0010238683977671914\n",
      "Error at 3400 epoch :  0.0010688036066410778\n",
      "Error at 3500 epoch :  0.001115574346286674\n",
      "Error at 3600 epoch :  0.0011642746003307503\n",
      "Error at 3700 epoch :  0.0012149996661016682\n",
      "Error at 3800 epoch :  0.0012678454028697272\n",
      "Error at 3900 epoch :  0.001322907262726103\n",
      "Error at 4000 epoch :  0.0013802790587261193\n",
      "Error at 4100 epoch :  0.001440051416773891\n",
      "Error at 4200 epoch :  0.001502309848149086\n",
      "Error at 4300 epoch :  0.0015671323689318561\n",
      "Error at 4400 epoch :  0.00163458658035337\n",
      "Error at 4500 epoch :  0.0017047261106158396\n",
      "Error at 4600 epoch :  0.0017775863038524409\n",
      "Error at 4700 epoch :  0.0018531790260088998\n",
      "Error at 4800 epoch :  0.0019314864406918542\n",
      "Error at 4900 epoch :  0.00201245359121327\n",
      "Error at 5000 epoch :  0.00209597960898833\n",
      "Error at 5100 epoch :  0.0021819073543777323\n",
      "Error at 5200 epoch :  0.0022700112859254107\n",
      "Error at 5300 epoch :  0.0023599833499643452\n",
      "Error at 5400 epoch :  0.0024514166880584276\n",
      "Error at 5500 epoch :  0.0025437869783839773\n",
      "Error at 5600 epoch :  0.0026364312639614584\n",
      "Error at 5700 epoch :  0.00272852418090036\n",
      "Error at 5800 epoch :  0.0028190515898498525\n",
      "Error at 5900 epoch :  0.002906781740139641\n",
      "Error at 6000 epoch :  0.002990234264671099\n",
      "Error at 6100 epoch :  0.0030676475196985686\n",
      "Error at 6200 epoch :  0.003136945049842854\n",
      "Error at 6300 epoch :  0.0031957022738456353\n",
      "Error at 6400 epoch :  0.0032411148444766447\n",
      "Error at 6500 epoch :  0.0032699705226580944\n",
      "Error at 6600 epoch :  0.003278626799783191\n",
      "Error at 6700 epoch :  0.003262996872440471\n",
      "Error at 6800 epoch :  0.0032185468821154806\n",
      "Error at 6900 epoch :  0.003140307535464404\n",
      "Error at 7000 epoch :  0.003022903276205524\n",
      "Error at 7100 epoch :  0.0028606020530295706\n",
      "Error at 7200 epoch :  0.0026473884040381646\n",
      "Error at 7300 epoch :  0.0023770620715203306\n",
      "Error at 7400 epoch :  0.002043363727049219\n",
      "Error at 7500 epoch :  0.0016401287321549662\n",
      "Error at 7600 epoch :  0.0011614693455880842\n",
      "Error at 7700 epoch :  0.0006019856303296489\n",
      "Error at 7800 epoch :  -4.299422738296421e-05\n",
      "Error at 7900 epoch :  -0.0007771421160720493\n",
      "Error at 8000 epoch :  -0.001602822123679959\n",
      "Error at 8100 epoch :  -0.0025207381580183985\n",
      "Error at 8200 epoch :  -0.003529523554481828\n",
      "Error at 8300 epoch :  -0.00462525341823794\n",
      "Error at 8400 epoch :  -0.005800855485445733\n",
      "Error at 8500 epoch :  -0.007045393986441939\n",
      "Error at 8600 epoch :  -0.00834320830097568\n",
      "Error at 8700 epoch :  -0.009672911504740644\n",
      "Error at 8800 epoch :  -0.011006302352880581\n",
      "Error at 8900 epoch :  -0.012307325493526144\n",
      "Error at 9000 epoch :  -0.013531327656234937\n",
      "Error at 9100 epoch :  -0.014624981221938282\n",
      "Error at 9200 epoch :  -0.015527330743975998\n",
      "Error at 9300 epoch :  -0.016172389341204463\n",
      "Error at 9400 epoch :  -0.01649351043518127\n",
      "Error at 9500 epoch :  -0.01642940034175666\n",
      "Error at 9600 epoch :  -0.015931244867812222\n",
      "Error at 9700 epoch :  -0.014970183164495443\n",
      "Error at 9800 epoch :  -0.013544370198509292\n",
      "Error at 9900 epoch :  -0.011685002516847898\n"
     ]
    }
   ],
   "source": [
    "epochs=10000\n",
    "model.train(x,y,epochs)"
   ]
  },
  {
   "cell_type": "code",
   "execution_count": 5,
   "id": "8e1d3d1d",
   "metadata": {},
   "outputs": [
    {
     "name": "stdout",
     "output_type": "stream",
     "text": [
      "[[0.40714176]\n",
      " [0.5682202 ]]\n"
     ]
    }
   ],
   "source": [
    "hh=model.forward([[0], [1]])\n",
    "print(hh[-1])"
   ]
  },
  {
   "cell_type": "code",
   "execution_count": 8,
   "id": "df615d9b",
   "metadata": {},
   "outputs": [
    {
     "name": "stdout",
     "output_type": "stream",
     "text": [
      "Enter INPUT 1 : 1\n",
      "Enter INPUT 2 : 1\n",
      "OUTPUT :  [1]\n",
      "\n",
      "\n",
      "Enter INPUT 1 : 1\n",
      "Enter INPUT 2 : 0\n",
      "OUTPUT :  [1]\n",
      "\n",
      "\n",
      "Enter INPUT 1 : 0\n",
      "Enter INPUT 2 : 1\n",
      "OUTPUT :  [1]\n",
      "\n",
      "\n",
      "Enter INPUT 1 : 0\n",
      "Enter INPUT 2 : 0\n",
      "OUTPUT :  [0]\n",
      "\n",
      "\n",
      "Enter INPUT 1 : 5\n"
     ]
    }
   ],
   "source": [
    "while(True):\n",
    "    x1=int(input(\"Enter INPUT 1 : \"))\n",
    "    if(x1>1):\n",
    "        break\n",
    "    x2 = int(input(\"Enter INPUT 2 : \"))\n",
    "    prediction = model.forward([[x1], [x2]])\n",
    "    print(\"OUTPUT : \", np.argmax(prediction[-1],axis=0))\n",
    "    print('\\n')"
   ]
  },
  {
   "cell_type": "code",
   "execution_count": null,
   "id": "5485009d",
   "metadata": {},
   "outputs": [],
   "source": []
  }
 ],
 "metadata": {
  "kernelspec": {
   "display_name": "Python 3 (ipykernel)",
   "language": "python",
   "name": "python3"
  },
  "language_info": {
   "codemirror_mode": {
    "name": "ipython",
    "version": 3
   },
   "file_extension": ".py",
   "mimetype": "text/x-python",
   "name": "python",
   "nbconvert_exporter": "python",
   "pygments_lexer": "ipython3",
   "version": "3.9.13"
  }
 },
 "nbformat": 4,
 "nbformat_minor": 5
}
